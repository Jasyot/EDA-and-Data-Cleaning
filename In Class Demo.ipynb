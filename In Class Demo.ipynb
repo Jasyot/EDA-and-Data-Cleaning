{
 "cells": [
  {
   "cell_type": "code",
   "execution_count": 281,
   "id": "41692f50",
   "metadata": {},
   "outputs": [],
   "source": [
    "import pandas as pd\n",
    "import numpy as np\n",
    "\n",
    "import seaborn as sns\n",
    "import matplotlib.pyplot as plt"
   ]
  },
  {
   "cell_type": "markdown",
   "id": "4c4ebcfc",
   "metadata": {},
   "source": [
    "# Code Demo1: Basic Cleaning and Heatmap"
   ]
  },
  {
   "cell_type": "markdown",
   "id": "c5b1737d",
   "metadata": {},
   "source": [
    "### 1.Basic Cleanup: BrainStation Dataset"
   ]
  },
  {
   "cell_type": "code",
   "execution_count": 282,
   "id": "db416ac0",
   "metadata": {},
   "outputs": [
    {
     "data": {
      "text/html": [
       "<div>\n",
       "<style scoped>\n",
       "    .dataframe tbody tr th:only-of-type {\n",
       "        vertical-align: middle;\n",
       "    }\n",
       "\n",
       "    .dataframe tbody tr th {\n",
       "        vertical-align: top;\n",
       "    }\n",
       "\n",
       "    .dataframe thead th {\n",
       "        text-align: right;\n",
       "    }\n",
       "</style>\n",
       "<table border=\"1\" class=\"dataframe\">\n",
       "  <thead>\n",
       "    <tr style=\"text-align: right;\">\n",
       "      <th></th>\n",
       "      <th>Unnamed: 0</th>\n",
       "      <th>index</th>\n",
       "      <th>Open</th>\n",
       "      <th>Cl-price</th>\n",
       "    </tr>\n",
       "  </thead>\n",
       "  <tbody>\n",
       "    <tr>\n",
       "      <th>0</th>\n",
       "      <td>0</td>\n",
       "      <td>6/29/2010</td>\n",
       "      <td>NaN</td>\n",
       "      <td>p4.778</td>\n",
       "    </tr>\n",
       "    <tr>\n",
       "      <th>1</th>\n",
       "      <td>1</td>\n",
       "      <td>6/30/2010</td>\n",
       "      <td>NaN</td>\n",
       "      <td>p4.766</td>\n",
       "    </tr>\n",
       "    <tr>\n",
       "      <th>2</th>\n",
       "      <td>2</td>\n",
       "      <td>7/1/2010</td>\n",
       "      <td>NaN</td>\n",
       "      <td>p4.392</td>\n",
       "    </tr>\n",
       "  </tbody>\n",
       "</table>\n",
       "</div>"
      ],
      "text/plain": [
       "   Unnamed: 0      index  Open Cl-price\n",
       "0           0  6/29/2010   NaN   p4.778\n",
       "1           1  6/30/2010   NaN   p4.766\n",
       "2           2   7/1/2010   NaN   p4.392"
      ]
     },
     "execution_count": 282,
     "metadata": {},
     "output_type": "execute_result"
    }
   ],
   "source": [
    "df_stock = pd.read_csv('/Users/jasyot/Desktop/BrainStation/Instructing Data Science Bootcamps/Oct 22nd 2024/4. Data Cleanup/tsla-price.csv')\n",
    "df_stock.head(3)"
   ]
  },
  {
   "cell_type": "code",
   "execution_count": 283,
   "id": "adb67e14",
   "metadata": {},
   "outputs": [
    {
     "name": "stdout",
     "output_type": "stream",
     "text": [
      "<class 'pandas.core.frame.DataFrame'>\n",
      "RangeIndex: 2961 entries, 0 to 2960\n",
      "Data columns (total 4 columns):\n",
      " #   Column      Non-Null Count  Dtype  \n",
      "---  ------      --------------  -----  \n",
      " 0   Unnamed: 0  2961 non-null   int64  \n",
      " 1   index       2961 non-null   object \n",
      " 2   Open        0 non-null      float64\n",
      " 3   Cl-price    2961 non-null   object \n",
      "dtypes: float64(1), int64(1), object(2)\n",
      "memory usage: 92.7+ KB\n"
     ]
    }
   ],
   "source": [
    "df_stock.info()"
   ]
  },
  {
   "cell_type": "raw",
   "id": "09f4d338",
   "metadata": {},
   "source": [
    "1. Make date as index as its a stock price dataset and convert into datetime object\n",
    "2. Drop the coll open and unnamed:0\n",
    "3. clean cl-price data value and make it as float datatype\n",
    "4. Remove any duplicates from dataset"
   ]
  },
  {
   "cell_type": "code",
   "execution_count": 284,
   "id": "5b29d1b8",
   "metadata": {},
   "outputs": [],
   "source": [
    "#1.Make date as index as its a stock price dataset and convert into datetime object\n",
    "\n",
    "df_stock['date']= pd.to_datetime(df_stock['index']) \n",
    "\n",
    "df_stock.set_index('date',inplace=True)"
   ]
  },
  {
   "cell_type": "code",
   "execution_count": 285,
   "id": "c89d530c",
   "metadata": {},
   "outputs": [],
   "source": [
    "#2.Drop the coll open and unnamed:0\n",
    "\n",
    "df_stock.drop(['Open','Unnamed: 0'],axis=1,inplace=True)"
   ]
  },
  {
   "cell_type": "code",
   "execution_count": 286,
   "id": "762d8b1f",
   "metadata": {},
   "outputs": [],
   "source": [
    "#3. Clean close price feature\n",
    "\n",
    "df_stock['close']=df_stock['Cl-price'].str.replace('p','').astype(float)"
   ]
  },
  {
   "cell_type": "code",
   "execution_count": 287,
   "id": "680ad095",
   "metadata": {},
   "outputs": [
    {
     "name": "stdout",
     "output_type": "stream",
     "text": [
      "                index     Cl-price       close\n",
      "date                                          \n",
      "2010-07-22  7/22/2010         p4.2    4.200000\n",
      "2022-03-04   3/4/2022  p838.289978  838.289978\n",
      "2022-02-22  2/22/2022  p821.530029  821.530029\n",
      "2021-08-30  8/30/2021  p730.909973  730.909973\n",
      "2022-02-07   2/7/2022  p907.340027  907.340027\n"
     ]
    }
   ],
   "source": [
    "#4. Remove duplicates\n",
    "\n",
    "    # check duplicate rows:\n",
    "\n",
    "dups=df_stock[df_stock.duplicated()]\n",
    "print(dups)\n",
    "\n",
    "    # remove dups (just keeping the first occ)\n",
    "\n",
    "df_stock = df_stock.drop_duplicates()\n",
    "\n",
    "    # you can delete using specifc colls: df = df.drop_duplicates(subset=['column1', 'column2'])"
   ]
  },
  {
   "cell_type": "code",
   "execution_count": 288,
   "id": "4532d724",
   "metadata": {},
   "outputs": [
    {
     "data": {
      "text/html": [
       "<div>\n",
       "<style scoped>\n",
       "    .dataframe tbody tr th:only-of-type {\n",
       "        vertical-align: middle;\n",
       "    }\n",
       "\n",
       "    .dataframe tbody tr th {\n",
       "        vertical-align: top;\n",
       "    }\n",
       "\n",
       "    .dataframe thead th {\n",
       "        text-align: right;\n",
       "    }\n",
       "</style>\n",
       "<table border=\"1\" class=\"dataframe\">\n",
       "  <thead>\n",
       "    <tr style=\"text-align: right;\">\n",
       "      <th></th>\n",
       "      <th>index</th>\n",
       "      <th>Cl-price</th>\n",
       "      <th>close</th>\n",
       "    </tr>\n",
       "    <tr>\n",
       "      <th>date</th>\n",
       "      <th></th>\n",
       "      <th></th>\n",
       "      <th></th>\n",
       "    </tr>\n",
       "  </thead>\n",
       "  <tbody>\n",
       "    <tr>\n",
       "      <th>2010-06-29</th>\n",
       "      <td>6/29/2010</td>\n",
       "      <td>p4.778</td>\n",
       "      <td>4.778</td>\n",
       "    </tr>\n",
       "    <tr>\n",
       "      <th>2010-06-30</th>\n",
       "      <td>6/30/2010</td>\n",
       "      <td>p4.766</td>\n",
       "      <td>4.766</td>\n",
       "    </tr>\n",
       "    <tr>\n",
       "      <th>2010-07-01</th>\n",
       "      <td>7/1/2010</td>\n",
       "      <td>p4.392</td>\n",
       "      <td>4.392</td>\n",
       "    </tr>\n",
       "  </tbody>\n",
       "</table>\n",
       "</div>"
      ],
      "text/plain": [
       "                index Cl-price  close\n",
       "date                                 \n",
       "2010-06-29  6/29/2010   p4.778  4.778\n",
       "2010-06-30  6/30/2010   p4.766  4.766\n",
       "2010-07-01   7/1/2010   p4.392  4.392"
      ]
     },
     "execution_count": 288,
     "metadata": {},
     "output_type": "execute_result"
    }
   ],
   "source": [
    "# Final dataset:\n",
    "\n",
    "df_stock.head(3)"
   ]
  },
  {
   "cell_type": "markdown",
   "id": "d86e8863",
   "metadata": {},
   "source": [
    "### 1.1 Basic Cleanup: Other Dataset"
   ]
  },
  {
   "cell_type": "markdown",
   "id": "ac114ffd",
   "metadata": {},
   "source": [
    "#### LOAD THE DATASET"
   ]
  },
  {
   "cell_type": "code",
   "execution_count": 323,
   "id": "7a8ebc58",
   "metadata": {},
   "outputs": [],
   "source": [
    "path_d='/Users/jasyot/Desktop/BrainStation/Instructing Data Science Bootcamps/Oct 22nd 2024/4. Data Cleanup/Sarah_Gets_Diamond.csv'\n",
    "path_g='/Users/jasyot/Desktop/BrainStation/Instructing Data Science Bootcamps/Oct 22nd 2024/4. Data Cleanup//grocery_data.csv'\n",
    "df_g=pd.read_csv(path_g) #Grocery\n",
    "df_d=pd.read_csv(path_d) #Diamonds"
   ]
  },
  {
   "cell_type": "markdown",
   "id": "42bc4e37",
   "metadata": {},
   "source": [
    "#### Explore Grocery Dataset"
   ]
  },
  {
   "cell_type": "code",
   "execution_count": 290,
   "id": "b406b948",
   "metadata": {},
   "outputs": [
    {
     "data": {
      "text/html": [
       "<div>\n",
       "<style scoped>\n",
       "    .dataframe tbody tr th:only-of-type {\n",
       "        vertical-align: middle;\n",
       "    }\n",
       "\n",
       "    .dataframe tbody tr th {\n",
       "        vertical-align: top;\n",
       "    }\n",
       "\n",
       "    .dataframe thead th {\n",
       "        text-align: right;\n",
       "    }\n",
       "</style>\n",
       "<table border=\"1\" class=\"dataframe\">\n",
       "  <thead>\n",
       "    <tr style=\"text-align: right;\">\n",
       "      <th></th>\n",
       "      <th>Obs</th>\n",
       "      <th>Grocery_Bill</th>\n",
       "      <th>Family_Income</th>\n",
       "      <th>Family_Size</th>\n",
       "      <th>N_Vehicles</th>\n",
       "      <th>Distance_to_Store</th>\n",
       "      <th>Vegetarian</th>\n",
       "      <th>N_Children</th>\n",
       "      <th>Family_Pet</th>\n",
       "      <th>N_Adults</th>\n",
       "    </tr>\n",
       "  </thead>\n",
       "  <tbody>\n",
       "    <tr>\n",
       "      <th>0</th>\n",
       "      <td>1</td>\n",
       "      <td>$357.73</td>\n",
       "      <td>$142,141</td>\n",
       "      <td>4</td>\n",
       "      <td>3</td>\n",
       "      <td>15</td>\n",
       "      <td>0</td>\n",
       "      <td>2</td>\n",
       "      <td>1</td>\n",
       "      <td>2</td>\n",
       "    </tr>\n",
       "    <tr>\n",
       "      <th>1</th>\n",
       "      <td>2</td>\n",
       "      <td>$276.84</td>\n",
       "      <td>$145,916</td>\n",
       "      <td>2</td>\n",
       "      <td>1</td>\n",
       "      <td>4</td>\n",
       "      <td>0</td>\n",
       "      <td>0</td>\n",
       "      <td>0</td>\n",
       "      <td>2</td>\n",
       "    </tr>\n",
       "    <tr>\n",
       "      <th>2</th>\n",
       "      <td>3</td>\n",
       "      <td>$197.92</td>\n",
       "      <td>$86,185</td>\n",
       "      <td>1</td>\n",
       "      <td>2</td>\n",
       "      <td>14</td>\n",
       "      <td>0</td>\n",
       "      <td>0</td>\n",
       "      <td>0</td>\n",
       "      <td>1</td>\n",
       "    </tr>\n",
       "  </tbody>\n",
       "</table>\n",
       "</div>"
      ],
      "text/plain": [
       "   Obs Grocery_Bill Family_Income  Family_Size  N_Vehicles  Distance_to_Store  \\\n",
       "0    1     $357.73      $142,141             4           3                 15   \n",
       "1    2     $276.84      $145,916             2           1                  4   \n",
       "2    3     $197.92       $86,185             1           2                 14   \n",
       "\n",
       "   Vegetarian  N_Children  Family_Pet  N_Adults  \n",
       "0           0           2           1         2  \n",
       "1           0           0           0         2  \n",
       "2           0           0           0         1  "
      ]
     },
     "execution_count": 290,
     "metadata": {},
     "output_type": "execute_result"
    }
   ],
   "source": [
    "df_g.head(3)"
   ]
  },
  {
   "cell_type": "code",
   "execution_count": 324,
   "id": "f9f02cfd",
   "metadata": {},
   "outputs": [],
   "source": [
    "df_g['Vegetarian']=df_g['Vegetarian'].map({0:\"veg\",1:\"non_veg\"})\n",
    "df_g['N_Children']=df_g['N_Children'].map({0:\"one_child\",1:\"two_child\",2:\"two_child\",3:\"three_child\"})"
   ]
  },
  {
   "cell_type": "code",
   "execution_count": 292,
   "id": "d9f84e62",
   "metadata": {},
   "outputs": [
    {
     "data": {
      "text/html": [
       "<div>\n",
       "<style scoped>\n",
       "    .dataframe tbody tr th:only-of-type {\n",
       "        vertical-align: middle;\n",
       "    }\n",
       "\n",
       "    .dataframe tbody tr th {\n",
       "        vertical-align: top;\n",
       "    }\n",
       "\n",
       "    .dataframe thead th {\n",
       "        text-align: right;\n",
       "    }\n",
       "</style>\n",
       "<table border=\"1\" class=\"dataframe\">\n",
       "  <thead>\n",
       "    <tr style=\"text-align: right;\">\n",
       "      <th></th>\n",
       "      <th>Obs</th>\n",
       "      <th>Grocery_Bill</th>\n",
       "      <th>Family_Income</th>\n",
       "      <th>Family_Size</th>\n",
       "      <th>N_Vehicles</th>\n",
       "      <th>Distance_to_Store</th>\n",
       "      <th>Vegetarian</th>\n",
       "      <th>N_Children</th>\n",
       "      <th>Family_Pet</th>\n",
       "      <th>N_Adults</th>\n",
       "    </tr>\n",
       "  </thead>\n",
       "  <tbody>\n",
       "    <tr>\n",
       "      <th>0</th>\n",
       "      <td>1</td>\n",
       "      <td>$357.73</td>\n",
       "      <td>$142,141</td>\n",
       "      <td>4</td>\n",
       "      <td>3</td>\n",
       "      <td>15</td>\n",
       "      <td>veg</td>\n",
       "      <td>two_child</td>\n",
       "      <td>1</td>\n",
       "      <td>2</td>\n",
       "    </tr>\n",
       "    <tr>\n",
       "      <th>1</th>\n",
       "      <td>2</td>\n",
       "      <td>$276.84</td>\n",
       "      <td>$145,916</td>\n",
       "      <td>2</td>\n",
       "      <td>1</td>\n",
       "      <td>4</td>\n",
       "      <td>veg</td>\n",
       "      <td>one_child</td>\n",
       "      <td>0</td>\n",
       "      <td>2</td>\n",
       "    </tr>\n",
       "    <tr>\n",
       "      <th>2</th>\n",
       "      <td>3</td>\n",
       "      <td>$197.92</td>\n",
       "      <td>$86,185</td>\n",
       "      <td>1</td>\n",
       "      <td>2</td>\n",
       "      <td>14</td>\n",
       "      <td>veg</td>\n",
       "      <td>one_child</td>\n",
       "      <td>0</td>\n",
       "      <td>1</td>\n",
       "    </tr>\n",
       "  </tbody>\n",
       "</table>\n",
       "</div>"
      ],
      "text/plain": [
       "   Obs Grocery_Bill Family_Income  Family_Size  N_Vehicles  Distance_to_Store  \\\n",
       "0    1     $357.73      $142,141             4           3                 15   \n",
       "1    2     $276.84      $145,916             2           1                  4   \n",
       "2    3     $197.92       $86,185             1           2                 14   \n",
       "\n",
       "  Vegetarian N_Children  Family_Pet  N_Adults  \n",
       "0        veg  two_child           1         2  \n",
       "1        veg  one_child           0         2  \n",
       "2        veg  one_child           0         1  "
      ]
     },
     "execution_count": 292,
     "metadata": {},
     "output_type": "execute_result"
    }
   ],
   "source": [
    "df_g.head(3)"
   ]
  },
  {
   "cell_type": "code",
   "execution_count": 325,
   "id": "5e5442b5",
   "metadata": {},
   "outputs": [
    {
     "name": "stdout",
     "output_type": "stream",
     "text": [
      "<class 'pandas.core.frame.DataFrame'>\n",
      "RangeIndex: 1000 entries, 0 to 999\n",
      "Data columns (total 10 columns):\n",
      " #   Column             Non-Null Count  Dtype \n",
      "---  ------             --------------  ----- \n",
      " 0   Obs                1000 non-null   int64 \n",
      " 1   Grocery_Bill       1000 non-null   object\n",
      " 2   Family_Income      1000 non-null   object\n",
      " 3   Family_Size        1000 non-null   int64 \n",
      " 4   N_Vehicles         1000 non-null   int64 \n",
      " 5   Distance_to_Store  1000 non-null   int64 \n",
      " 6   Vegetarian         1000 non-null   object\n",
      " 7   N_Children         1000 non-null   object\n",
      " 8   Family_Pet         1000 non-null   int64 \n",
      " 9   N_Adults           1000 non-null   int64 \n",
      "dtypes: int64(6), object(4)\n",
      "memory usage: 78.3+ KB\n"
     ]
    }
   ],
   "source": [
    "df_g.info()"
   ]
  },
  {
   "cell_type": "markdown",
   "id": "ca3d15da",
   "metadata": {},
   "source": [
    "#### Basic Cleanup Grocery Dataset (Exercise In-class)"
   ]
  },
  {
   "cell_type": "code",
   "execution_count": 326,
   "id": "d960261b",
   "metadata": {},
   "outputs": [
    {
     "name": "stdout",
     "output_type": "stream",
     "text": [
      "<class 'pandas.core.frame.DataFrame'>\n",
      "RangeIndex: 1000 entries, 0 to 999\n",
      "Data columns (total 13 columns):\n",
      " #   Column                  Non-Null Count  Dtype  \n",
      "---  ------                  --------------  -----  \n",
      " 0   Obs                     1000 non-null   int64  \n",
      " 1   Grocery_Bill            1000 non-null   float64\n",
      " 2   Family_Income           1000 non-null   float64\n",
      " 3   Family_Size             1000 non-null   int64  \n",
      " 4   N_Vehicles              1000 non-null   int64  \n",
      " 5   Distance_to_Store       1000 non-null   int64  \n",
      " 6   Family_Pet              1000 non-null   int64  \n",
      " 7   N_Adults                1000 non-null   int64  \n",
      " 8   Vegetarian_non_veg      1000 non-null   bool   \n",
      " 9   Vegetarian_veg          1000 non-null   bool   \n",
      " 10  N_Children_one_child    1000 non-null   bool   \n",
      " 11  N_Children_three_child  1000 non-null   bool   \n",
      " 12  N_Children_two_child    1000 non-null   bool   \n",
      "dtypes: bool(5), float64(2), int64(6)\n",
      "memory usage: 67.5 KB\n"
     ]
    }
   ],
   "source": [
    "# 1. Make bills and income as float data type and remove \"$\"\n",
    "\n",
    "df_g['Grocery_Bill']=df_g['Grocery_Bill'].str.replace('$','').str.replace(',', '').str.strip().astype(float)\n",
    "df_g['Family_Income']=df_g['Family_Income'].str.replace('$','').str.replace(',', '').str.strip().astype(float)\n",
    "\n",
    "# 2. Make N_Child and Veg as OHE\n",
    "\n",
    "df_f_encoded = pd.get_dummies(df_g, \n",
    "                              columns=['Vegetarian', 'N_Children'], \n",
    "                              drop_first=False) # Why drop_first=False and not true? Interview!\n",
    "df_f_encoded.info()"
   ]
  },
  {
   "cell_type": "code",
   "execution_count": 327,
   "id": "96281a15",
   "metadata": {},
   "outputs": [
    {
     "name": "stdout",
     "output_type": "stream",
     "text": [
      "<class 'pandas.core.frame.DataFrame'>\n",
      "RangeIndex: 1000 entries, 0 to 999\n",
      "Data columns (total 11 columns):\n",
      " #   Column                  Non-Null Count  Dtype  \n",
      "---  ------                  --------------  -----  \n",
      " 0   Obs                     1000 non-null   int64  \n",
      " 1   Grocery_Bill            1000 non-null   float64\n",
      " 2   Family_Income           1000 non-null   float64\n",
      " 3   Family_Size             1000 non-null   int64  \n",
      " 4   N_Vehicles              1000 non-null   int64  \n",
      " 5   Distance_to_Store       1000 non-null   int64  \n",
      " 6   Family_Pet              1000 non-null   int64  \n",
      " 7   N_Adults                1000 non-null   int64  \n",
      " 8   Vegetarian_veg          1000 non-null   bool   \n",
      " 9   N_Children_three_child  1000 non-null   bool   \n",
      " 10  N_Children_two_child    1000 non-null   bool   \n",
      "dtypes: bool(3), float64(2), int64(6)\n",
      "memory usage: 65.6 KB\n"
     ]
    }
   ],
   "source": [
    "df_f_encoded = pd.get_dummies(df_g, \n",
    "                              columns=['Vegetarian', 'N_Children'], \n",
    "                              drop_first=True) # Why drop_first=False and not true? Interview!\n",
    "\n",
    "df_f_encoded.info()"
   ]
  },
  {
   "cell_type": "code",
   "execution_count": 295,
   "id": "af22e1c0",
   "metadata": {},
   "outputs": [
    {
     "data": {
      "text/html": [
       "<div>\n",
       "<style scoped>\n",
       "    .dataframe tbody tr th:only-of-type {\n",
       "        vertical-align: middle;\n",
       "    }\n",
       "\n",
       "    .dataframe tbody tr th {\n",
       "        vertical-align: top;\n",
       "    }\n",
       "\n",
       "    .dataframe thead th {\n",
       "        text-align: right;\n",
       "    }\n",
       "</style>\n",
       "<table border=\"1\" class=\"dataframe\">\n",
       "  <thead>\n",
       "    <tr style=\"text-align: right;\">\n",
       "      <th></th>\n",
       "      <th>Obs</th>\n",
       "      <th>Grocery_Bill</th>\n",
       "      <th>Family_Income</th>\n",
       "      <th>Family_Size</th>\n",
       "      <th>N_Vehicles</th>\n",
       "      <th>Distance_to_Store</th>\n",
       "      <th>Family_Pet</th>\n",
       "      <th>N_Adults</th>\n",
       "      <th>Vegetarian_non_veg</th>\n",
       "      <th>Vegetarian_veg</th>\n",
       "      <th>N_Children_one_child</th>\n",
       "      <th>N_Children_three_child</th>\n",
       "      <th>N_Children_two_child</th>\n",
       "    </tr>\n",
       "  </thead>\n",
       "  <tbody>\n",
       "    <tr>\n",
       "      <th>0</th>\n",
       "      <td>1</td>\n",
       "      <td>357.73</td>\n",
       "      <td>142141.0</td>\n",
       "      <td>4</td>\n",
       "      <td>3</td>\n",
       "      <td>15</td>\n",
       "      <td>1</td>\n",
       "      <td>2</td>\n",
       "      <td>False</td>\n",
       "      <td>True</td>\n",
       "      <td>False</td>\n",
       "      <td>False</td>\n",
       "      <td>True</td>\n",
       "    </tr>\n",
       "    <tr>\n",
       "      <th>1</th>\n",
       "      <td>2</td>\n",
       "      <td>276.84</td>\n",
       "      <td>145916.0</td>\n",
       "      <td>2</td>\n",
       "      <td>1</td>\n",
       "      <td>4</td>\n",
       "      <td>0</td>\n",
       "      <td>2</td>\n",
       "      <td>False</td>\n",
       "      <td>True</td>\n",
       "      <td>True</td>\n",
       "      <td>False</td>\n",
       "      <td>False</td>\n",
       "    </tr>\n",
       "    <tr>\n",
       "      <th>2</th>\n",
       "      <td>3</td>\n",
       "      <td>197.92</td>\n",
       "      <td>86185.0</td>\n",
       "      <td>1</td>\n",
       "      <td>2</td>\n",
       "      <td>14</td>\n",
       "      <td>0</td>\n",
       "      <td>1</td>\n",
       "      <td>False</td>\n",
       "      <td>True</td>\n",
       "      <td>True</td>\n",
       "      <td>False</td>\n",
       "      <td>False</td>\n",
       "    </tr>\n",
       "  </tbody>\n",
       "</table>\n",
       "</div>"
      ],
      "text/plain": [
       "   Obs  Grocery_Bill  Family_Income  Family_Size  N_Vehicles  \\\n",
       "0    1        357.73       142141.0            4           3   \n",
       "1    2        276.84       145916.0            2           1   \n",
       "2    3        197.92        86185.0            1           2   \n",
       "\n",
       "   Distance_to_Store  Family_Pet  N_Adults  Vegetarian_non_veg  \\\n",
       "0                 15           1         2               False   \n",
       "1                  4           0         2               False   \n",
       "2                 14           0         1               False   \n",
       "\n",
       "   Vegetarian_veg  N_Children_one_child  N_Children_three_child  \\\n",
       "0            True                 False                   False   \n",
       "1            True                  True                   False   \n",
       "2            True                  True                   False   \n",
       "\n",
       "   N_Children_two_child  \n",
       "0                  True  \n",
       "1                 False  \n",
       "2                 False  "
      ]
     },
     "execution_count": 295,
     "metadata": {},
     "output_type": "execute_result"
    }
   ],
   "source": [
    "df_f_encoded.head(3)"
   ]
  },
  {
   "cell_type": "markdown",
   "id": "a4b1b154",
   "metadata": {},
   "source": [
    "#### Redundant Features and Heatmap"
   ]
  },
  {
   "cell_type": "code",
   "execution_count": 69,
   "id": "513cf3e6",
   "metadata": {},
   "outputs": [
    {
     "data": {
      "image/png": "[encoded data removed]",
      "text/plain": [
       "<Figure size 1200x800 with 2 Axes>"
      ]
     },
     "metadata": {},
     "output_type": "display_data"
    }
   ],
   "source": [
    "# 1. Correlation\n",
    "\n",
    "correlations = df_f_encoded.corr()['Grocery_Bill'].sort_values(ascending=False)\n",
    "\n",
    "    #Heatmap:\n",
    "    \n",
    "plt.figure(figsize=(12, 8))\n",
    "sns.heatmap(df_f_encoded.corr(), \n",
    "            annot=True,        # Show correlation values\n",
    "            cmap='coolwarm',   # Color scheme\n",
    "            center=0,          # Center the colormap at 0\n",
    "            fmt='.2f')         # Format correlation values to 2 decimal places\n",
    "\n",
    "plt.title('Correlation Heatmap')\n",
    "plt.tight_layout()\n",
    "plt.show()"
   ]
  },
  {
   "cell_type": "raw",
   "id": "a8edd6b7",
   "metadata": {},
   "source": [
    "# 2. Find out feature that have no corr:\n",
    "\n",
    "low_corr_threshold = 0.25\n",
    "\n",
    "low_corr_features = correlations[\n",
    "    (correlations.between(-low_corr_threshold, low_corr_threshold)) & \n",
    "    (correlations.index != 'Grocery_Bill')\n",
    "]\n",
    "\n",
    "print(\"\\nFeatures with very low correlation (between -0.25 and 0.25):\")\n",
    "print(low_corr_features)"
   ]
  },
  {
   "cell_type": "markdown",
   "id": "cabbaba5",
   "metadata": {},
   "source": [
    "#### One Hot Encoding"
   ]
  },
  {
   "cell_type": "code",
   "execution_count": 280,
   "id": "ea0cd392",
   "metadata": {},
   "outputs": [
    {
     "data": {
      "text/html": [
       "<div>\n",
       "<style scoped>\n",
       "    .dataframe tbody tr th:only-of-type {\n",
       "        vertical-align: middle;\n",
       "    }\n",
       "\n",
       "    .dataframe tbody tr th {\n",
       "        vertical-align: top;\n",
       "    }\n",
       "\n",
       "    .dataframe thead th {\n",
       "        text-align: right;\n",
       "    }\n",
       "</style>\n",
       "<table border=\"1\" class=\"dataframe\">\n",
       "  <thead>\n",
       "    <tr style=\"text-align: right;\">\n",
       "      <th></th>\n",
       "      <th>ID</th>\n",
       "      <th>Carat Weight</th>\n",
       "      <th>Cut</th>\n",
       "      <th>Color</th>\n",
       "      <th>Clarity</th>\n",
       "      <th>Polish</th>\n",
       "      <th>Symmetry</th>\n",
       "      <th>Report</th>\n",
       "      <th>Price</th>\n",
       "      <th>Price_imputed_mean</th>\n",
       "    </tr>\n",
       "  </thead>\n",
       "  <tbody>\n",
       "    <tr>\n",
       "      <th>0</th>\n",
       "      <td>1</td>\n",
       "      <td>1.10</td>\n",
       "      <td>Ideal</td>\n",
       "      <td>H</td>\n",
       "      <td>SI1</td>\n",
       "      <td>VG</td>\n",
       "      <td>EX</td>\n",
       "      <td>GIA</td>\n",
       "      <td>5169.0</td>\n",
       "      <td>5169.0</td>\n",
       "    </tr>\n",
       "    <tr>\n",
       "      <th>1</th>\n",
       "      <td>2</td>\n",
       "      <td>0.83</td>\n",
       "      <td>Ideal</td>\n",
       "      <td>H</td>\n",
       "      <td>VS1</td>\n",
       "      <td>ID</td>\n",
       "      <td>ID</td>\n",
       "      <td>AGSL</td>\n",
       "      <td>3470.0</td>\n",
       "      <td>3470.0</td>\n",
       "    </tr>\n",
       "    <tr>\n",
       "      <th>2</th>\n",
       "      <td>3</td>\n",
       "      <td>0.85</td>\n",
       "      <td>Ideal</td>\n",
       "      <td>H</td>\n",
       "      <td>SI1</td>\n",
       "      <td>EX</td>\n",
       "      <td>EX</td>\n",
       "      <td>GIA</td>\n",
       "      <td>3183.0</td>\n",
       "      <td>3183.0</td>\n",
       "    </tr>\n",
       "    <tr>\n",
       "      <th>3</th>\n",
       "      <td>4</td>\n",
       "      <td>0.91</td>\n",
       "      <td>Ideal</td>\n",
       "      <td>E</td>\n",
       "      <td>SI1</td>\n",
       "      <td>VG</td>\n",
       "      <td>VG</td>\n",
       "      <td>GIA</td>\n",
       "      <td>4370.0</td>\n",
       "      <td>4370.0</td>\n",
       "    </tr>\n",
       "  </tbody>\n",
       "</table>\n",
       "</div>"
      ],
      "text/plain": [
       "   ID  Carat Weight    Cut Color Clarity Polish Symmetry Report   Price  \\\n",
       "0   1          1.10  Ideal     H     SI1     VG       EX    GIA  5169.0   \n",
       "1   2          0.83  Ideal     H     VS1     ID       ID   AGSL  3470.0   \n",
       "2   3          0.85  Ideal     H     SI1     EX       EX    GIA  3183.0   \n",
       "3   4          0.91  Ideal     E     SI1     VG       VG    GIA  4370.0   \n",
       "\n",
       "   Price_imputed_mean  \n",
       "0              5169.0  \n",
       "1              3470.0  \n",
       "2              3183.0  \n",
       "3              4370.0  "
      ]
     },
     "execution_count": 280,
     "metadata": {},
     "output_type": "execute_result"
    }
   ],
   "source": [
    "# 1. Use diamond dataset\n",
    "\n",
    "df_d.head(4)"
   ]
  },
  {
   "cell_type": "code",
   "execution_count": 297,
   "id": "95d44ee0",
   "metadata": {},
   "outputs": [
    {
     "name": "stdout",
     "output_type": "stream",
     "text": [
      "<class 'pandas.core.frame.DataFrame'>\n",
      "RangeIndex: 9142 entries, 0 to 9141\n",
      "Data columns (total 25 columns):\n",
      " #   Column               Non-Null Count  Dtype  \n",
      "---  ------               --------------  -----  \n",
      " 0   ID                   9142 non-null   int64  \n",
      " 1   Carat Weight         9142 non-null   float64\n",
      " 2   Price                6000 non-null   float64\n",
      " 3   Cut_Good             9142 non-null   bool   \n",
      " 4   Cut_Ideal            9142 non-null   bool   \n",
      " 5   Cut_Signature-Ideal  9142 non-null   bool   \n",
      " 6   Cut_Very Good        9142 non-null   bool   \n",
      " 7   Color_E              9142 non-null   bool   \n",
      " 8   Color_F              9142 non-null   bool   \n",
      " 9   Color_G              9142 non-null   bool   \n",
      " 10  Color_H              9142 non-null   bool   \n",
      " 11  Color_I              9142 non-null   bool   \n",
      " 12  Clarity_IF           9142 non-null   bool   \n",
      " 13  Clarity_SI1          9142 non-null   bool   \n",
      " 14  Clarity_VS1          9142 non-null   bool   \n",
      " 15  Clarity_VS2          9142 non-null   bool   \n",
      " 16  Clarity_VVS1         9142 non-null   bool   \n",
      " 17  Clarity_VVS2         9142 non-null   bool   \n",
      " 18  Polish_G             9142 non-null   bool   \n",
      " 19  Polish_ID            9142 non-null   bool   \n",
      " 20  Polish_VG            9142 non-null   bool   \n",
      " 21  Symmetry_G           9142 non-null   bool   \n",
      " 22  Symmetry_ID          9142 non-null   bool   \n",
      " 23  Symmetry_VG          9142 non-null   bool   \n",
      " 24  Report_GIA           9142 non-null   bool   \n",
      "dtypes: bool(22), float64(2), int64(1)\n",
      "memory usage: 410.8 KB\n"
     ]
    }
   ],
   "source": [
    "# 2. Use pandas get_dummies function (can use other as well)\n",
    "\n",
    "df_d_sample_ohe=pd.get_dummies(df_d,\n",
    "                              columns=['Cut','Color','Clarity','Polish','Symmetry','Report'],\n",
    "                              drop_first=True) #Important for Intrw\n",
    "df_d_sample_ohe.info()"
   ]
  },
  {
   "cell_type": "markdown",
   "id": "18760b26",
   "metadata": {},
   "source": [
    "#### EXERCISE: "
   ]
  },
  {
   "cell_type": "raw",
   "id": "0fba7dff",
   "metadata": {},
   "source": [
    "1. Load your project dataset in pandas. \n",
    "2. Do OHE for all the categorical variables in the data-frame."
   ]
  },
  {
   "cell_type": "markdown",
   "id": "93f9a9d9",
   "metadata": {},
   "source": [
    "# Code Demo2: Missing Data Handling"
   ]
  },
  {
   "cell_type": "markdown",
   "id": "fbc78aff",
   "metadata": {},
   "source": [
    "#### 1. Missing Values"
   ]
  },
  {
   "cell_type": "code",
   "execution_count": 107,
   "id": "823cdecb",
   "metadata": {},
   "outputs": [
    {
     "data": {
      "text/html": [
       "<div>\n",
       "<style scoped>\n",
       "    .dataframe tbody tr th:only-of-type {\n",
       "        vertical-align: middle;\n",
       "    }\n",
       "\n",
       "    .dataframe tbody tr th {\n",
       "        vertical-align: top;\n",
       "    }\n",
       "\n",
       "    .dataframe thead th {\n",
       "        text-align: right;\n",
       "    }\n",
       "</style>\n",
       "<table border=\"1\" class=\"dataframe\">\n",
       "  <thead>\n",
       "    <tr style=\"text-align: right;\">\n",
       "      <th></th>\n",
       "      <th>ID</th>\n",
       "      <th>Carat Weight</th>\n",
       "      <th>Cut</th>\n",
       "      <th>Color</th>\n",
       "      <th>Clarity</th>\n",
       "      <th>Polish</th>\n",
       "      <th>Symmetry</th>\n",
       "      <th>Report</th>\n",
       "      <th>Price</th>\n",
       "    </tr>\n",
       "  </thead>\n",
       "  <tbody>\n",
       "    <tr>\n",
       "      <th>0</th>\n",
       "      <td>1</td>\n",
       "      <td>1.10</td>\n",
       "      <td>Ideal</td>\n",
       "      <td>H</td>\n",
       "      <td>SI1</td>\n",
       "      <td>VG</td>\n",
       "      <td>EX</td>\n",
       "      <td>GIA</td>\n",
       "      <td>5169.0</td>\n",
       "    </tr>\n",
       "    <tr>\n",
       "      <th>1</th>\n",
       "      <td>2</td>\n",
       "      <td>0.83</td>\n",
       "      <td>Ideal</td>\n",
       "      <td>H</td>\n",
       "      <td>VS1</td>\n",
       "      <td>ID</td>\n",
       "      <td>ID</td>\n",
       "      <td>AGSL</td>\n",
       "      <td>3470.0</td>\n",
       "    </tr>\n",
       "    <tr>\n",
       "      <th>2</th>\n",
       "      <td>3</td>\n",
       "      <td>0.85</td>\n",
       "      <td>Ideal</td>\n",
       "      <td>H</td>\n",
       "      <td>SI1</td>\n",
       "      <td>EX</td>\n",
       "      <td>EX</td>\n",
       "      <td>GIA</td>\n",
       "      <td>3183.0</td>\n",
       "    </tr>\n",
       "  </tbody>\n",
       "</table>\n",
       "</div>"
      ],
      "text/plain": [
       "   ID  Carat Weight    Cut Color Clarity Polish Symmetry Report   Price\n",
       "0   1          1.10  Ideal     H     SI1     VG       EX    GIA  5169.0\n",
       "1   2          0.83  Ideal     H     VS1     ID       ID   AGSL  3470.0\n",
       "2   3          0.85  Ideal     H     SI1     EX       EX    GIA  3183.0"
      ]
     },
     "execution_count": 107,
     "metadata": {},
     "output_type": "execute_result"
    }
   ],
   "source": [
    "df_d.head(3)"
   ]
  },
  {
   "cell_type": "code",
   "execution_count": 328,
   "id": "dce09a51",
   "metadata": {},
   "outputs": [
    {
     "data": {
      "text/plain": [
       "ID                 0\n",
       "Carat Weight       0\n",
       "Cut                0\n",
       "Color              0\n",
       "Clarity            0\n",
       "Polish             0\n",
       "Symmetry           0\n",
       "Report             0\n",
       "Price           3142\n",
       "dtype: int64"
      ]
     },
     "execution_count": 328,
     "metadata": {},
     "output_type": "execute_result"
    }
   ],
   "source": [
    "df_d.isna().sum()"
   ]
  },
  {
   "cell_type": "code",
   "execution_count": null,
   "id": "0ee75083",
   "metadata": {},
   "outputs": [],
   "source": [
    "# If you want to drop all missing values: df.dropna()\n",
    "\n",
    "# If you want to fill missing values at once you can use df.fillna(method='bfil') - timeseries!"
   ]
  },
  {
   "cell_type": "code",
   "execution_count": 330,
   "id": "cb43afd7",
   "metadata": {},
   "outputs": [
    {
     "name": "stderr",
     "output_type": "stream",
     "text": [
      "/opt/anaconda3/lib/python3.11/site-packages/seaborn/_oldcore.py:1119: FutureWarning: use_inf_as_na option is deprecated and will be removed in a future version. Convert inf values to NaN before operating instead.\n",
      "  with pd.option_context('mode.use_inf_as_na', True):\n",
      "/opt/anaconda3/lib/python3.11/site-packages/seaborn/_oldcore.py:1119: FutureWarning: use_inf_as_na option is deprecated and will be removed in a future version. Convert inf values to NaN before operating instead.\n",
      "  with pd.option_context('mode.use_inf_as_na', True):\n"
     ]
    },
    {
     "data": {
      "image/png": "[encoded data removed]",
      "text/plain": [
       "<Figure size 640x480 with 1 Axes>"
      ]
     },
     "metadata": {},
     "output_type": "display_data"
    }
   ],
   "source": [
    "# Lets try Impute missing value by mean:\n",
    "\n",
    "price_mean = df_d['Price'].mode()\n",
    "\n",
    "df_d['Price_imputed_mean'] = df_d['Price'].fillna(price_mean)\n",
    "\n",
    "# Kernerl density plots (for now just use it as a plot, ask if you have any concerns)\n",
    "sns.kdeplot(data=df_d['Price'], \n",
    "            label='Orignal Price',\n",
    "           color='blue',\n",
    "           linewidth=2)\n",
    "\n",
    "sns.kdeplot(data=df_d['Price_imputed_mean'], \n",
    "            label='imputed mean Price',\n",
    "           color='red',\n",
    "           linewidth=2)\n",
    "\n",
    "\n",
    "plt.show()"
   ]
  },
  {
   "cell_type": "markdown",
   "id": "41e7e082",
   "metadata": {},
   "source": [
    "#### Exercise:"
   ]
  },
  {
   "cell_type": "raw",
   "id": "4bb1e026",
   "metadata": {},
   "source": [
    "Load the dataset customer_info.\n",
    "\n",
    "Create one hot encoding for STATE, INDUSTRY and drop CUSTOMER_ID\n",
    "\n",
    "Find the number of missing values in all the features. Impute the missing values in EMP and ANNUAL_SALES (Decide what to use)."
   ]
  },
  {
   "cell_type": "code",
   "execution_count": null,
   "id": "1026907f",
   "metadata": {},
   "outputs": [],
   "source": [
    "# Start your code here!\n"
   ]
  },
  {
   "cell_type": "code",
   "execution_count": null,
   "id": "39a7290d",
   "metadata": {},
   "outputs": [],
   "source": []
  },
  {
   "cell_type": "code",
   "execution_count": null,
   "id": "1a16d863",
   "metadata": {},
   "outputs": [],
   "source": []
  },
  {
   "cell_type": "code",
   "execution_count": null,
   "id": "5a1dcbd3",
   "metadata": {},
   "outputs": [],
   "source": []
  },
  {
   "cell_type": "code",
   "execution_count": null,
   "id": "c050bc3b",
   "metadata": {},
   "outputs": [],
   "source": []
  },
  {
   "cell_type": "code",
   "execution_count": null,
   "id": "94c48078",
   "metadata": {},
   "outputs": [],
   "source": []
  },
  {
   "cell_type": "code",
   "execution_count": 335,
   "id": "04fa315e",
   "metadata": {},
   "outputs": [],
   "source": [
    "df_customer_info=pd.read_csv(\"/Users/jasyot/Desktop/BrainStation/Instructing Data Science Bootcamps/Oct 22nd 2024/4. Data Cleanup/customer_info.csv\")"
   ]
  },
  {
   "cell_type": "code",
   "execution_count": 336,
   "id": "e5b6ed23",
   "metadata": {},
   "outputs": [
    {
     "name": "stdout",
     "output_type": "stream",
     "text": [
      "<class 'pandas.core.frame.DataFrame'>\n",
      "RangeIndex: 10000 entries, 0 to 9999\n",
      "Data columns (total 7 columns):\n",
      " #   Column        Non-Null Count  Dtype  \n",
      "---  ------        --------------  -----  \n",
      " 0   CUSTOMER_ID   10000 non-null  int64  \n",
      " 1   INDUSTRY      9891 non-null   object \n",
      " 2   EMP           8757 non-null   float64\n",
      " 3   ANNUAL_SALES  9478 non-null   float64\n",
      " 4   STATE         10000 non-null  object \n",
      " 5   MOBILITY      10000 non-null  float64\n",
      " 6   INTERNET      10000 non-null  float64\n",
      "dtypes: float64(4), int64(1), object(2)\n",
      "memory usage: 547.0+ KB\n"
     ]
    }
   ],
   "source": [
    "df_customer_info.info()"
   ]
  },
  {
   "cell_type": "code",
   "execution_count": 337,
   "id": "6d0c2936",
   "metadata": {},
   "outputs": [],
   "source": [
    "df_customer_info_encoded=pd.get_dummies(df_customer_info,\n",
    "                                       columns=['STATE','INDUSTRY'],\n",
    "                                       drop_first=False)\n",
    "\n",
    "df_customer_info_encoded.drop(['CUSTOMER_ID'],axis=1,inplace=True)"
   ]
  },
  {
   "cell_type": "code",
   "execution_count": 338,
   "id": "a51e862d",
   "metadata": {},
   "outputs": [],
   "source": [
    "# Calculate mean mode and median for EMP and ANNUAL_SALES\n",
    "\n",
    "EMP_mean=df_customer_info_encoded['EMP'].mean()\n",
    "EMP_mode=df_customer_info_encoded['EMP'].mode()\n",
    "EMP_median=df_customer_info_encoded['EMP'].median()\n",
    "\n",
    "ANNUAL_SALES_mean=df_customer_info_encoded['ANNUAL_SALES'].mean()\n",
    "ANNUAL_SALES_mode=df_customer_info_encoded['ANNUAL_SALES'].mode()\n",
    "ANNUAL_SALES_median=df_customer_info_encoded['ANNUAL_SALES'].median()"
   ]
  },
  {
   "cell_type": "code",
   "execution_count": 341,
   "id": "8b7bc905",
   "metadata": {},
   "outputs": [
    {
     "name": "stderr",
     "output_type": "stream",
     "text": [
      "/opt/anaconda3/lib/python3.11/site-packages/seaborn/_oldcore.py:1119: FutureWarning: use_inf_as_na option is deprecated and will be removed in a future version. Convert inf values to NaN before operating instead.\n",
      "  with pd.option_context('mode.use_inf_as_na', True):\n",
      "/opt/anaconda3/lib/python3.11/site-packages/seaborn/_oldcore.py:1119: FutureWarning: use_inf_as_na option is deprecated and will be removed in a future version. Convert inf values to NaN before operating instead.\n",
      "  with pd.option_context('mode.use_inf_as_na', True):\n"
     ]
    },
    {
     "data": {
      "image/png": "[encoded data removed]",
      "text/plain": [
       "<Figure size 640x480 with 1 Axes>"
      ]
     },
     "metadata": {},
     "output_type": "display_data"
    }
   ],
   "source": [
    "# Impute with mean and check the distribution for EMP:\n",
    "\n",
    "df_customer_info_encoded['EMP_mean'] = df_customer_info_encoded['EMP'].fillna(EMP_median) # Not mean, mode or median\n",
    "\n",
    "sns.kdeplot(data=df_customer_info_encoded['EMP'], \n",
    "            label='Orignal EMP',\n",
    "           color='blue',\n",
    "           linewidth=2)\n",
    "\n",
    "sns.kdeplot(data=df_customer_info_encoded['EMP_mean'], \n",
    "            label='mean imputed EMP',\n",
    "           color='red',\n",
    "           linewidth=2)\n",
    "\n",
    "plt.show()"
   ]
  },
  {
   "cell_type": "code",
   "execution_count": 343,
   "id": "4835a614",
   "metadata": {},
   "outputs": [
    {
     "name": "stderr",
     "output_type": "stream",
     "text": [
      "/opt/anaconda3/lib/python3.11/site-packages/seaborn/_oldcore.py:1119: FutureWarning: use_inf_as_na option is deprecated and will be removed in a future version. Convert inf values to NaN before operating instead.\n",
      "  with pd.option_context('mode.use_inf_as_na', True):\n",
      "/opt/anaconda3/lib/python3.11/site-packages/seaborn/_oldcore.py:1119: FutureWarning: use_inf_as_na option is deprecated and will be removed in a future version. Convert inf values to NaN before operating instead.\n",
      "  with pd.option_context('mode.use_inf_as_na', True):\n"
     ]
    },
    {
     "data": {
      "image/png": "[encoded data removed]",
      "text/plain": [
       "<Figure size 640x480 with 1 Axes>"
      ]
     },
     "metadata": {},
     "output_type": "display_data"
    }
   ],
   "source": [
    "# Impute with mean and check the distribution for ANNUAL_SALES:\n",
    "\n",
    "df_customer_info_encoded['ANNUAL_SALES_mean'] = df_customer_info_encoded['ANNUAL_SALES'].fillna(sales_mode) #Use mode or mdedian.\n",
    "\n",
    "sns.kdeplot(data=df_customer_info_encoded['ANNUAL_SALES'], \n",
    "            label='Orignal ANNUAL_SALES',\n",
    "           color='blue',\n",
    "           linewidth=2)\n",
    "\n",
    "sns.kdeplot(data=df_customer_info_encoded['ANNUAL_SALES_mean'], \n",
    "            label='mean imputed ANNUAL_SALES',\n",
    "           color='red',\n",
    "           linewidth=2)\n",
    "\n",
    "plt.show()"
   ]
  },
  {
   "cell_type": "markdown",
   "id": "2a0e6823",
   "metadata": {},
   "source": [
    "# Code Demo3: Advance Methods Handling Missing Values"
   ]
  },
  {
   "cell_type": "markdown",
   "id": "3b4a5226",
   "metadata": {},
   "source": [
    "#### 1. Running KNN Imputation:"
   ]
  },
  {
   "cell_type": "code",
   "execution_count": 344,
   "id": "439b3c4b",
   "metadata": {},
   "outputs": [],
   "source": [
    "df_KNN=pd.read_csv(\"/Users/jasyot/Desktop/BrainStation/Instructing Data Science Bootcamps/Oct 22nd 2024/4. Data Cleanup/Car_Prices.csv\")"
   ]
  },
  {
   "cell_type": "code",
   "execution_count": 345,
   "id": "bdce789b",
   "metadata": {},
   "outputs": [
    {
     "data": {
      "text/html": [
       "<div>\n",
       "<style scoped>\n",
       "    .dataframe tbody tr th:only-of-type {\n",
       "        vertical-align: middle;\n",
       "    }\n",
       "\n",
       "    .dataframe tbody tr th {\n",
       "        vertical-align: top;\n",
       "    }\n",
       "\n",
       "    .dataframe thead th {\n",
       "        text-align: right;\n",
       "    }\n",
       "</style>\n",
       "<table border=\"1\" class=\"dataframe\">\n",
       "  <thead>\n",
       "    <tr style=\"text-align: right;\">\n",
       "      <th></th>\n",
       "      <th>Make</th>\n",
       "      <th>Model</th>\n",
       "      <th>Year</th>\n",
       "      <th>Engine Fuel Type</th>\n",
       "      <th>Engine HP</th>\n",
       "      <th>Engine Cylinders</th>\n",
       "      <th>Transmission Type</th>\n",
       "      <th>Driven_Wheels</th>\n",
       "      <th>Number of Doors</th>\n",
       "      <th>Market Category</th>\n",
       "      <th>Vehicle Size</th>\n",
       "      <th>Vehicle Style</th>\n",
       "      <th>highway MPG</th>\n",
       "      <th>city mpg</th>\n",
       "      <th>Popularity</th>\n",
       "      <th>MSRP</th>\n",
       "    </tr>\n",
       "  </thead>\n",
       "  <tbody>\n",
       "    <tr>\n",
       "      <th>0</th>\n",
       "      <td>BMW</td>\n",
       "      <td>1 Series M</td>\n",
       "      <td>2011</td>\n",
       "      <td>premium unleaded (required)</td>\n",
       "      <td>335.0</td>\n",
       "      <td>6.0</td>\n",
       "      <td>MANUAL</td>\n",
       "      <td>rear wheel drive</td>\n",
       "      <td>2.0</td>\n",
       "      <td>Factory Tuner,Luxury,High-Performance</td>\n",
       "      <td>Compact</td>\n",
       "      <td>Coupe</td>\n",
       "      <td>26</td>\n",
       "      <td>19</td>\n",
       "      <td>3916</td>\n",
       "      <td>46135</td>\n",
       "    </tr>\n",
       "    <tr>\n",
       "      <th>1</th>\n",
       "      <td>BMW</td>\n",
       "      <td>1 Series</td>\n",
       "      <td>2011</td>\n",
       "      <td>premium unleaded (required)</td>\n",
       "      <td>300.0</td>\n",
       "      <td>6.0</td>\n",
       "      <td>MANUAL</td>\n",
       "      <td>rear wheel drive</td>\n",
       "      <td>2.0</td>\n",
       "      <td>Luxury,Performance</td>\n",
       "      <td>Compact</td>\n",
       "      <td>Convertible</td>\n",
       "      <td>28</td>\n",
       "      <td>19</td>\n",
       "      <td>3916</td>\n",
       "      <td>40650</td>\n",
       "    </tr>\n",
       "    <tr>\n",
       "      <th>2</th>\n",
       "      <td>BMW</td>\n",
       "      <td>1 Series</td>\n",
       "      <td>2011</td>\n",
       "      <td>premium unleaded (required)</td>\n",
       "      <td>300.0</td>\n",
       "      <td>6.0</td>\n",
       "      <td>MANUAL</td>\n",
       "      <td>rear wheel drive</td>\n",
       "      <td>2.0</td>\n",
       "      <td>Luxury,High-Performance</td>\n",
       "      <td>Compact</td>\n",
       "      <td>Coupe</td>\n",
       "      <td>28</td>\n",
       "      <td>20</td>\n",
       "      <td>3916</td>\n",
       "      <td>36350</td>\n",
       "    </tr>\n",
       "  </tbody>\n",
       "</table>\n",
       "</div>"
      ],
      "text/plain": [
       "  Make       Model  Year             Engine Fuel Type  Engine HP  \\\n",
       "0  BMW  1 Series M  2011  premium unleaded (required)      335.0   \n",
       "1  BMW    1 Series  2011  premium unleaded (required)      300.0   \n",
       "2  BMW    1 Series  2011  premium unleaded (required)      300.0   \n",
       "\n",
       "   Engine Cylinders Transmission Type     Driven_Wheels  Number of Doors  \\\n",
       "0               6.0            MANUAL  rear wheel drive              2.0   \n",
       "1               6.0            MANUAL  rear wheel drive              2.0   \n",
       "2               6.0            MANUAL  rear wheel drive              2.0   \n",
       "\n",
       "                         Market Category Vehicle Size Vehicle Style  \\\n",
       "0  Factory Tuner,Luxury,High-Performance      Compact         Coupe   \n",
       "1                     Luxury,Performance      Compact   Convertible   \n",
       "2                Luxury,High-Performance      Compact         Coupe   \n",
       "\n",
       "   highway MPG  city mpg  Popularity   MSRP  \n",
       "0           26        19        3916  46135  \n",
       "1           28        19        3916  40650  \n",
       "2           28        20        3916  36350  "
      ]
     },
     "execution_count": 345,
     "metadata": {},
     "output_type": "execute_result"
    }
   ],
   "source": [
    "df_KNN.head(3)"
   ]
  },
  {
   "cell_type": "code",
   "execution_count": 346,
   "id": "ceb81c08",
   "metadata": {},
   "outputs": [
    {
     "data": {
      "text/plain": [
       "Make                    0\n",
       "Model                   0\n",
       "Year                    0\n",
       "Engine Fuel Type        3\n",
       "Engine HP              69\n",
       "Engine Cylinders       30\n",
       "Transmission Type       0\n",
       "Driven_Wheels           0\n",
       "Number of Doors         6\n",
       "Market Category      3742\n",
       "Vehicle Size            0\n",
       "Vehicle Style           0\n",
       "highway MPG             0\n",
       "city mpg                0\n",
       "Popularity              0\n",
       "MSRP                    0\n",
       "dtype: int64"
      ]
     },
     "execution_count": 346,
     "metadata": {},
     "output_type": "execute_result"
    }
   ],
   "source": [
    "df_KNN.isna().sum()"
   ]
  },
  {
   "cell_type": "code",
   "execution_count": 347,
   "id": "f0b4a242",
   "metadata": {},
   "outputs": [
    {
     "name": "stdout",
     "output_type": "stream",
     "text": [
      "<class 'pandas.core.frame.DataFrame'>\n",
      "RangeIndex: 11914 entries, 0 to 11913\n",
      "Data columns (total 16 columns):\n",
      " #   Column             Non-Null Count  Dtype  \n",
      "---  ------             --------------  -----  \n",
      " 0   Make               11914 non-null  object \n",
      " 1   Model              11914 non-null  object \n",
      " 2   Year               11914 non-null  int64  \n",
      " 3   Engine Fuel Type   11911 non-null  object \n",
      " 4   Engine HP          11845 non-null  float64\n",
      " 5   Engine Cylinders   11884 non-null  float64\n",
      " 6   Transmission Type  11914 non-null  object \n",
      " 7   Driven_Wheels      11914 non-null  object \n",
      " 8   Number of Doors    11908 non-null  float64\n",
      " 9   Market Category    8172 non-null   object \n",
      " 10  Vehicle Size       11914 non-null  object \n",
      " 11  Vehicle Style      11914 non-null  object \n",
      " 12  highway MPG        11914 non-null  int64  \n",
      " 13  city mpg           11914 non-null  int64  \n",
      " 14  Popularity         11914 non-null  int64  \n",
      " 15  MSRP               11914 non-null  int64  \n",
      "dtypes: float64(3), int64(5), object(8)\n",
      "memory usage: 1.5+ MB\n"
     ]
    }
   ],
   "source": [
    "df_KNN.info()"
   ]
  },
  {
   "cell_type": "code",
   "execution_count": 348,
   "id": "8d74937d",
   "metadata": {},
   "outputs": [],
   "source": [
    "df_KNN_e = pd.get_dummies(df_KNN, drop_first=False)"
   ]
  },
  {
   "cell_type": "code",
   "execution_count": 349,
   "id": "2594f5c7",
   "metadata": {},
   "outputs": [
    {
     "data": {
      "text/html": [
       "<div>\n",
       "<style scoped>\n",
       "    .dataframe tbody tr th:only-of-type {\n",
       "        vertical-align: middle;\n",
       "    }\n",
       "\n",
       "    .dataframe tbody tr th {\n",
       "        vertical-align: top;\n",
       "    }\n",
       "\n",
       "    .dataframe thead th {\n",
       "        text-align: right;\n",
       "    }\n",
       "</style>\n",
       "<table border=\"1\" class=\"dataframe\">\n",
       "  <thead>\n",
       "    <tr style=\"text-align: right;\">\n",
       "      <th></th>\n",
       "      <th>Year</th>\n",
       "      <th>Engine HP</th>\n",
       "      <th>Engine Cylinders</th>\n",
       "      <th>Number of Doors</th>\n",
       "      <th>highway MPG</th>\n",
       "      <th>city mpg</th>\n",
       "      <th>Popularity</th>\n",
       "      <th>MSRP</th>\n",
       "      <th>Make_Acura</th>\n",
       "      <th>Make_Alfa Romeo</th>\n",
       "      <th>...</th>\n",
       "      <th>Vehicle Style_Convertible</th>\n",
       "      <th>Vehicle Style_Convertible SUV</th>\n",
       "      <th>Vehicle Style_Coupe</th>\n",
       "      <th>Vehicle Style_Crew Cab Pickup</th>\n",
       "      <th>Vehicle Style_Extended Cab Pickup</th>\n",
       "      <th>Vehicle Style_Passenger Minivan</th>\n",
       "      <th>Vehicle Style_Passenger Van</th>\n",
       "      <th>Vehicle Style_Regular Cab Pickup</th>\n",
       "      <th>Vehicle Style_Sedan</th>\n",
       "      <th>Vehicle Style_Wagon</th>\n",
       "    </tr>\n",
       "  </thead>\n",
       "  <tbody>\n",
       "    <tr>\n",
       "      <th>0</th>\n",
       "      <td>2011</td>\n",
       "      <td>335.0</td>\n",
       "      <td>6.0</td>\n",
       "      <td>2.0</td>\n",
       "      <td>26</td>\n",
       "      <td>19</td>\n",
       "      <td>3916</td>\n",
       "      <td>46135</td>\n",
       "      <td>False</td>\n",
       "      <td>False</td>\n",
       "      <td>...</td>\n",
       "      <td>False</td>\n",
       "      <td>False</td>\n",
       "      <td>True</td>\n",
       "      <td>False</td>\n",
       "      <td>False</td>\n",
       "      <td>False</td>\n",
       "      <td>False</td>\n",
       "      <td>False</td>\n",
       "      <td>False</td>\n",
       "      <td>False</td>\n",
       "    </tr>\n",
       "    <tr>\n",
       "      <th>1</th>\n",
       "      <td>2011</td>\n",
       "      <td>300.0</td>\n",
       "      <td>6.0</td>\n",
       "      <td>2.0</td>\n",
       "      <td>28</td>\n",
       "      <td>19</td>\n",
       "      <td>3916</td>\n",
       "      <td>40650</td>\n",
       "      <td>False</td>\n",
       "      <td>False</td>\n",
       "      <td>...</td>\n",
       "      <td>True</td>\n",
       "      <td>False</td>\n",
       "      <td>False</td>\n",
       "      <td>False</td>\n",
       "      <td>False</td>\n",
       "      <td>False</td>\n",
       "      <td>False</td>\n",
       "      <td>False</td>\n",
       "      <td>False</td>\n",
       "      <td>False</td>\n",
       "    </tr>\n",
       "    <tr>\n",
       "      <th>2</th>\n",
       "      <td>2011</td>\n",
       "      <td>300.0</td>\n",
       "      <td>6.0</td>\n",
       "      <td>2.0</td>\n",
       "      <td>28</td>\n",
       "      <td>20</td>\n",
       "      <td>3916</td>\n",
       "      <td>36350</td>\n",
       "      <td>False</td>\n",
       "      <td>False</td>\n",
       "      <td>...</td>\n",
       "      <td>False</td>\n",
       "      <td>False</td>\n",
       "      <td>True</td>\n",
       "      <td>False</td>\n",
       "      <td>False</td>\n",
       "      <td>False</td>\n",
       "      <td>False</td>\n",
       "      <td>False</td>\n",
       "      <td>False</td>\n",
       "      <td>False</td>\n",
       "    </tr>\n",
       "    <tr>\n",
       "      <th>3</th>\n",
       "      <td>2011</td>\n",
       "      <td>230.0</td>\n",
       "      <td>6.0</td>\n",
       "      <td>2.0</td>\n",
       "      <td>28</td>\n",
       "      <td>18</td>\n",
       "      <td>3916</td>\n",
       "      <td>29450</td>\n",
       "      <td>False</td>\n",
       "      <td>False</td>\n",
       "      <td>...</td>\n",
       "      <td>False</td>\n",
       "      <td>False</td>\n",
       "      <td>True</td>\n",
       "      <td>False</td>\n",
       "      <td>False</td>\n",
       "      <td>False</td>\n",
       "      <td>False</td>\n",
       "      <td>False</td>\n",
       "      <td>False</td>\n",
       "      <td>False</td>\n",
       "    </tr>\n",
       "    <tr>\n",
       "      <th>4</th>\n",
       "      <td>2011</td>\n",
       "      <td>230.0</td>\n",
       "      <td>6.0</td>\n",
       "      <td>2.0</td>\n",
       "      <td>28</td>\n",
       "      <td>18</td>\n",
       "      <td>3916</td>\n",
       "      <td>34500</td>\n",
       "      <td>False</td>\n",
       "      <td>False</td>\n",
       "      <td>...</td>\n",
       "      <td>True</td>\n",
       "      <td>False</td>\n",
       "      <td>False</td>\n",
       "      <td>False</td>\n",
       "      <td>False</td>\n",
       "      <td>False</td>\n",
       "      <td>False</td>\n",
       "      <td>False</td>\n",
       "      <td>False</td>\n",
       "      <td>False</td>\n",
       "    </tr>\n",
       "    <tr>\n",
       "      <th>...</th>\n",
       "      <td>...</td>\n",
       "      <td>...</td>\n",
       "      <td>...</td>\n",
       "      <td>...</td>\n",
       "      <td>...</td>\n",
       "      <td>...</td>\n",
       "      <td>...</td>\n",
       "      <td>...</td>\n",
       "      <td>...</td>\n",
       "      <td>...</td>\n",
       "      <td>...</td>\n",
       "      <td>...</td>\n",
       "      <td>...</td>\n",
       "      <td>...</td>\n",
       "      <td>...</td>\n",
       "      <td>...</td>\n",
       "      <td>...</td>\n",
       "      <td>...</td>\n",
       "      <td>...</td>\n",
       "      <td>...</td>\n",
       "      <td>...</td>\n",
       "    </tr>\n",
       "    <tr>\n",
       "      <th>11909</th>\n",
       "      <td>2012</td>\n",
       "      <td>300.0</td>\n",
       "      <td>6.0</td>\n",
       "      <td>4.0</td>\n",
       "      <td>23</td>\n",
       "      <td>16</td>\n",
       "      <td>204</td>\n",
       "      <td>46120</td>\n",
       "      <td>True</td>\n",
       "      <td>False</td>\n",
       "      <td>...</td>\n",
       "      <td>False</td>\n",
       "      <td>False</td>\n",
       "      <td>False</td>\n",
       "      <td>False</td>\n",
       "      <td>False</td>\n",
       "      <td>False</td>\n",
       "      <td>False</td>\n",
       "      <td>False</td>\n",
       "      <td>False</td>\n",
       "      <td>False</td>\n",
       "    </tr>\n",
       "    <tr>\n",
       "      <th>11910</th>\n",
       "      <td>2012</td>\n",
       "      <td>300.0</td>\n",
       "      <td>6.0</td>\n",
       "      <td>4.0</td>\n",
       "      <td>23</td>\n",
       "      <td>16</td>\n",
       "      <td>204</td>\n",
       "      <td>56670</td>\n",
       "      <td>True</td>\n",
       "      <td>False</td>\n",
       "      <td>...</td>\n",
       "      <td>False</td>\n",
       "      <td>False</td>\n",
       "      <td>False</td>\n",
       "      <td>False</td>\n",
       "      <td>False</td>\n",
       "      <td>False</td>\n",
       "      <td>False</td>\n",
       "      <td>False</td>\n",
       "      <td>False</td>\n",
       "      <td>False</td>\n",
       "    </tr>\n",
       "    <tr>\n",
       "      <th>11911</th>\n",
       "      <td>2012</td>\n",
       "      <td>300.0</td>\n",
       "      <td>6.0</td>\n",
       "      <td>4.0</td>\n",
       "      <td>23</td>\n",
       "      <td>16</td>\n",
       "      <td>204</td>\n",
       "      <td>50620</td>\n",
       "      <td>True</td>\n",
       "      <td>False</td>\n",
       "      <td>...</td>\n",
       "      <td>False</td>\n",
       "      <td>False</td>\n",
       "      <td>False</td>\n",
       "      <td>False</td>\n",
       "      <td>False</td>\n",
       "      <td>False</td>\n",
       "      <td>False</td>\n",
       "      <td>False</td>\n",
       "      <td>False</td>\n",
       "      <td>False</td>\n",
       "    </tr>\n",
       "    <tr>\n",
       "      <th>11912</th>\n",
       "      <td>2013</td>\n",
       "      <td>300.0</td>\n",
       "      <td>6.0</td>\n",
       "      <td>4.0</td>\n",
       "      <td>23</td>\n",
       "      <td>16</td>\n",
       "      <td>204</td>\n",
       "      <td>50920</td>\n",
       "      <td>True</td>\n",
       "      <td>False</td>\n",
       "      <td>...</td>\n",
       "      <td>False</td>\n",
       "      <td>False</td>\n",
       "      <td>False</td>\n",
       "      <td>False</td>\n",
       "      <td>False</td>\n",
       "      <td>False</td>\n",
       "      <td>False</td>\n",
       "      <td>False</td>\n",
       "      <td>False</td>\n",
       "      <td>False</td>\n",
       "    </tr>\n",
       "    <tr>\n",
       "      <th>11913</th>\n",
       "      <td>2006</td>\n",
       "      <td>221.0</td>\n",
       "      <td>6.0</td>\n",
       "      <td>4.0</td>\n",
       "      <td>26</td>\n",
       "      <td>17</td>\n",
       "      <td>61</td>\n",
       "      <td>28995</td>\n",
       "      <td>False</td>\n",
       "      <td>False</td>\n",
       "      <td>...</td>\n",
       "      <td>False</td>\n",
       "      <td>False</td>\n",
       "      <td>False</td>\n",
       "      <td>False</td>\n",
       "      <td>False</td>\n",
       "      <td>False</td>\n",
       "      <td>False</td>\n",
       "      <td>False</td>\n",
       "      <td>True</td>\n",
       "      <td>False</td>\n",
       "    </tr>\n",
       "  </tbody>\n",
       "</table>\n",
       "<p>11914 rows × 1080 columns</p>\n",
       "</div>"
      ],
      "text/plain": [
       "       Year  Engine HP  Engine Cylinders  Number of Doors  highway MPG  \\\n",
       "0      2011      335.0               6.0              2.0           26   \n",
       "1      2011      300.0               6.0              2.0           28   \n",
       "2      2011      300.0               6.0              2.0           28   \n",
       "3      2011      230.0               6.0              2.0           28   \n",
       "4      2011      230.0               6.0              2.0           28   \n",
       "...     ...        ...               ...              ...          ...   \n",
       "11909  2012      300.0               6.0              4.0           23   \n",
       "11910  2012      300.0               6.0              4.0           23   \n",
       "11911  2012      300.0               6.0              4.0           23   \n",
       "11912  2013      300.0               6.0              4.0           23   \n",
       "11913  2006      221.0               6.0              4.0           26   \n",
       "\n",
       "       city mpg  Popularity   MSRP  Make_Acura  Make_Alfa Romeo  ...  \\\n",
       "0            19        3916  46135       False            False  ...   \n",
       "1            19        3916  40650       False            False  ...   \n",
       "2            20        3916  36350       False            False  ...   \n",
       "3            18        3916  29450       False            False  ...   \n",
       "4            18        3916  34500       False            False  ...   \n",
       "...         ...         ...    ...         ...              ...  ...   \n",
       "11909        16         204  46120        True            False  ...   \n",
       "11910        16         204  56670        True            False  ...   \n",
       "11911        16         204  50620        True            False  ...   \n",
       "11912        16         204  50920        True            False  ...   \n",
       "11913        17          61  28995       False            False  ...   \n",
       "\n",
       "       Vehicle Style_Convertible  Vehicle Style_Convertible SUV  \\\n",
       "0                          False                          False   \n",
       "1                           True                          False   \n",
       "2                          False                          False   \n",
       "3                          False                          False   \n",
       "4                           True                          False   \n",
       "...                          ...                            ...   \n",
       "11909                      False                          False   \n",
       "11910                      False                          False   \n",
       "11911                      False                          False   \n",
       "11912                      False                          False   \n",
       "11913                      False                          False   \n",
       "\n",
       "       Vehicle Style_Coupe  Vehicle Style_Crew Cab Pickup  \\\n",
       "0                     True                          False   \n",
       "1                    False                          False   \n",
       "2                     True                          False   \n",
       "3                     True                          False   \n",
       "4                    False                          False   \n",
       "...                    ...                            ...   \n",
       "11909                False                          False   \n",
       "11910                False                          False   \n",
       "11911                False                          False   \n",
       "11912                False                          False   \n",
       "11913                False                          False   \n",
       "\n",
       "       Vehicle Style_Extended Cab Pickup  Vehicle Style_Passenger Minivan  \\\n",
       "0                                  False                            False   \n",
       "1                                  False                            False   \n",
       "2                                  False                            False   \n",
       "3                                  False                            False   \n",
       "4                                  False                            False   \n",
       "...                                  ...                              ...   \n",
       "11909                              False                            False   \n",
       "11910                              False                            False   \n",
       "11911                              False                            False   \n",
       "11912                              False                            False   \n",
       "11913                              False                            False   \n",
       "\n",
       "       Vehicle Style_Passenger Van  Vehicle Style_Regular Cab Pickup  \\\n",
       "0                            False                             False   \n",
       "1                            False                             False   \n",
       "2                            False                             False   \n",
       "3                            False                             False   \n",
       "4                            False                             False   \n",
       "...                            ...                               ...   \n",
       "11909                        False                             False   \n",
       "11910                        False                             False   \n",
       "11911                        False                             False   \n",
       "11912                        False                             False   \n",
       "11913                        False                             False   \n",
       "\n",
       "       Vehicle Style_Sedan  Vehicle Style_Wagon  \n",
       "0                    False                False  \n",
       "1                    False                False  \n",
       "2                    False                False  \n",
       "3                    False                False  \n",
       "4                    False                False  \n",
       "...                    ...                  ...  \n",
       "11909                False                False  \n",
       "11910                False                False  \n",
       "11911                False                False  \n",
       "11912                False                False  \n",
       "11913                 True                False  \n",
       "\n",
       "[11914 rows x 1080 columns]"
      ]
     },
     "execution_count": 349,
     "metadata": {},
     "output_type": "execute_result"
    }
   ],
   "source": [
    "df_KNN_e"
   ]
  },
  {
   "cell_type": "code",
   "execution_count": 350,
   "id": "6f3b23e0",
   "metadata": {},
   "outputs": [
    {
     "name": "stdout",
     "output_type": "stream",
     "text": [
      "<class 'pandas.core.frame.DataFrame'>\n",
      "RangeIndex: 11914 entries, 0 to 11913\n",
      "Columns: 1080 entries, Year to Vehicle Style_Wagon\n",
      "dtypes: bool(1072), float64(3), int64(5)\n",
      "memory usage: 12.9 MB\n"
     ]
    }
   ],
   "source": [
    "df_KNN_e.info()"
   ]
  },
  {
   "cell_type": "code",
   "execution_count": 351,
   "id": "e8f317e3",
   "metadata": {
    "scrolled": true
   },
   "outputs": [],
   "source": [
    "from sklearn.impute import KNNImputer\n",
    "\n",
    "# create KNN object, decide how many points near by you want to consider.\n",
    "imputer = KNNImputer(n_neighbors=2)\n",
    "\n",
    "# Fit and transform the DataFrame to impute missing values\n",
    "df_imputed = pd.DataFrame(imputer.fit_transform(df_KNN_e), columns=df_KNN_e.columns)"
   ]
  },
  {
   "cell_type": "code",
   "execution_count": 352,
   "id": "36763df2",
   "metadata": {},
   "outputs": [
    {
     "data": {
      "text/plain": [
       "Year                                0\n",
       "Engine HP                           0\n",
       "Engine Cylinders                    0\n",
       "Number of Doors                     0\n",
       "highway MPG                         0\n",
       "                                   ..\n",
       "Vehicle Style_Passenger Minivan     0\n",
       "Vehicle Style_Passenger Van         0\n",
       "Vehicle Style_Regular Cab Pickup    0\n",
       "Vehicle Style_Sedan                 0\n",
       "Vehicle Style_Wagon                 0\n",
       "Length: 1080, dtype: int64"
      ]
     },
     "execution_count": 352,
     "metadata": {},
     "output_type": "execute_result"
    }
   ],
   "source": [
    "df_imputed.isna().sum()"
   ]
  },
  {
   "cell_type": "code",
   "execution_count": 353,
   "id": "4773defc",
   "metadata": {},
   "outputs": [
    {
     "name": "stderr",
     "output_type": "stream",
     "text": [
      "/opt/anaconda3/lib/python3.11/site-packages/seaborn/_oldcore.py:1119: FutureWarning: use_inf_as_na option is deprecated and will be removed in a future version. Convert inf values to NaN before operating instead.\n",
      "  with pd.option_context('mode.use_inf_as_na', True):\n"
     ]
    },
    {
     "data": {
      "image/png": "[encoded data removed]",
      "text/plain": [
       "<Figure size 640x480 with 1 Axes>"
      ]
     },
     "metadata": {},
     "output_type": "display_data"
    }
   ],
   "source": [
    "sns.kdeplot(data=df_KNN['Engine HP'], \n",
    "            label='Orignal Data Dist',\n",
    "           color='blue',\n",
    "           linewidth=2)\n",
    "\n",
    "plt.show()"
   ]
  },
  {
   "cell_type": "code",
   "execution_count": 354,
   "id": "dafcea7f",
   "metadata": {},
   "outputs": [
    {
     "name": "stderr",
     "output_type": "stream",
     "text": [
      "/opt/anaconda3/lib/python3.11/site-packages/seaborn/_oldcore.py:1119: FutureWarning: use_inf_as_na option is deprecated and will be removed in a future version. Convert inf values to NaN before operating instead.\n",
      "  with pd.option_context('mode.use_inf_as_na', True):\n"
     ]
    },
    {
     "data": {
      "image/png": "[encoded data removed]",
      "text/plain": [
       "<Figure size 640x480 with 1 Axes>"
      ]
     },
     "metadata": {},
     "output_type": "display_data"
    }
   ],
   "source": [
    "sns.kdeplot(data=df_imputed['Engine HP'], \n",
    "            label='New Data Dist',\n",
    "           color='Red',\n",
    "           linewidth=2)\n",
    "\n",
    "plt.show()"
   ]
  },
  {
   "cell_type": "markdown",
   "id": "9ec0621c",
   "metadata": {},
   "source": [
    "#### 2. Running MICE for Imputations (Dummy Data)"
   ]
  },
  {
   "cell_type": "code",
   "execution_count": 355,
   "id": "95c9e5de",
   "metadata": {},
   "outputs": [
    {
     "data": {
      "text/html": [
       "<div>\n",
       "<style scoped>\n",
       "    .dataframe tbody tr th:only-of-type {\n",
       "        vertical-align: middle;\n",
       "    }\n",
       "\n",
       "    .dataframe tbody tr th {\n",
       "        vertical-align: top;\n",
       "    }\n",
       "\n",
       "    .dataframe thead th {\n",
       "        text-align: right;\n",
       "    }\n",
       "</style>\n",
       "<table border=\"1\" class=\"dataframe\">\n",
       "  <thead>\n",
       "    <tr style=\"text-align: right;\">\n",
       "      <th></th>\n",
       "      <th>Age</th>\n",
       "      <th>Income</th>\n",
       "      <th>Education</th>\n",
       "    </tr>\n",
       "  </thead>\n",
       "  <tbody>\n",
       "    <tr>\n",
       "      <th>0</th>\n",
       "      <td>25.0</td>\n",
       "      <td>50000.0</td>\n",
       "      <td>NaN</td>\n",
       "    </tr>\n",
       "    <tr>\n",
       "      <th>1</th>\n",
       "      <td>NaN</td>\n",
       "      <td>60000.0</td>\n",
       "      <td>2.0</td>\n",
       "    </tr>\n",
       "    <tr>\n",
       "      <th>2</th>\n",
       "      <td>35.0</td>\n",
       "      <td>NaN</td>\n",
       "      <td>3.0</td>\n",
       "    </tr>\n",
       "    <tr>\n",
       "      <th>3</th>\n",
       "      <td>45.0</td>\n",
       "      <td>80000.0</td>\n",
       "      <td>NaN</td>\n",
       "    </tr>\n",
       "    <tr>\n",
       "      <th>4</th>\n",
       "      <td>NaN</td>\n",
       "      <td>90000.0</td>\n",
       "      <td>4.0</td>\n",
       "    </tr>\n",
       "  </tbody>\n",
       "</table>\n",
       "</div>"
      ],
      "text/plain": [
       "    Age   Income  Education\n",
       "0  25.0  50000.0        NaN\n",
       "1   NaN  60000.0        2.0\n",
       "2  35.0      NaN        3.0\n",
       "3  45.0  80000.0        NaN\n",
       "4   NaN  90000.0        4.0"
      ]
     },
     "execution_count": 355,
     "metadata": {},
     "output_type": "execute_result"
    }
   ],
   "source": [
    "# Dummy Data:\n",
    "\n",
    "datad = {\n",
    "    'Age': [25, np.nan, 35, 45, np.nan],\n",
    "    'Income': [50000, 60000, np.nan, 80000, 90000],\n",
    "    'Education': [np.nan, 2, 3, np.nan, 4],  # Numerical categorical variable\n",
    "}\n",
    "df_dummy = pd.DataFrame(datad)\n",
    "\n",
    "df_dummy.head()"
   ]
  },
  {
   "cell_type": "code",
   "execution_count": 356,
   "id": "91785577",
   "metadata": {},
   "outputs": [
    {
     "data": {
      "text/plain": [
       "Age          0\n",
       "Income       0\n",
       "Education    0\n",
       "dtype: int64"
      ]
     },
     "execution_count": 356,
     "metadata": {},
     "output_type": "execute_result"
    }
   ],
   "source": [
    "from sklearn.experimental import enable_iterative_imputer \n",
    "from sklearn.impute import IterativeImputer\n",
    "\n",
    "# Initialize the IterativeImputer\n",
    "imputer = IterativeImputer(max_iter=3, \n",
    "                           random_state=0)\n",
    "\n",
    "# Fit and transform the DataFrame to impute missing values\n",
    "df_imputed_encoded = pd.DataFrame(imputer.fit_transform(df_dummy), columns=df_dummy.columns)\n",
    "\n",
    "df_imputed_encoded.isna().sum()"
   ]
  },
  {
   "cell_type": "code",
   "execution_count": 320,
   "id": "e6112d94",
   "metadata": {},
   "outputs": [
    {
     "data": {
      "text/html": [
       "<div>\n",
       "<style scoped>\n",
       "    .dataframe tbody tr th:only-of-type {\n",
       "        vertical-align: middle;\n",
       "    }\n",
       "\n",
       "    .dataframe tbody tr th {\n",
       "        vertical-align: top;\n",
       "    }\n",
       "\n",
       "    .dataframe thead th {\n",
       "        text-align: right;\n",
       "    }\n",
       "</style>\n",
       "<table border=\"1\" class=\"dataframe\">\n",
       "  <thead>\n",
       "    <tr style=\"text-align: right;\">\n",
       "      <th></th>\n",
       "      <th>Age</th>\n",
       "      <th>Income</th>\n",
       "      <th>Education</th>\n",
       "    </tr>\n",
       "  </thead>\n",
       "  <tbody>\n",
       "    <tr>\n",
       "      <th>0</th>\n",
       "      <td>25.000000</td>\n",
       "      <td>50000.0</td>\n",
       "      <td>1.227154</td>\n",
       "    </tr>\n",
       "    <tr>\n",
       "      <th>1</th>\n",
       "      <td>30.727788</td>\n",
       "      <td>60000.0</td>\n",
       "      <td>2.000000</td>\n",
       "    </tr>\n",
       "    <tr>\n",
       "      <th>2</th>\n",
       "      <td>35.000000</td>\n",
       "      <td>70000.0</td>\n",
       "      <td>3.000000</td>\n",
       "    </tr>\n",
       "    <tr>\n",
       "      <th>3</th>\n",
       "      <td>45.000000</td>\n",
       "      <td>80000.0</td>\n",
       "      <td>3.106213</td>\n",
       "    </tr>\n",
       "    <tr>\n",
       "      <th>4</th>\n",
       "      <td>49.952742</td>\n",
       "      <td>90000.0</td>\n",
       "      <td>4.000000</td>\n",
       "    </tr>\n",
       "  </tbody>\n",
       "</table>\n",
       "</div>"
      ],
      "text/plain": [
       "         Age   Income  Education\n",
       "0  25.000000  50000.0   1.227154\n",
       "1  30.727788  60000.0   2.000000\n",
       "2  35.000000  70000.0   3.000000\n",
       "3  45.000000  80000.0   3.106213\n",
       "4  49.952742  90000.0   4.000000"
      ]
     },
     "execution_count": 320,
     "metadata": {},
     "output_type": "execute_result"
    }
   ],
   "source": [
    "df_imputed_encoded.head()"
   ]
  },
  {
   "cell_type": "code",
   "execution_count": 321,
   "id": "4a921176",
   "metadata": {
    "scrolled": true
   },
   "outputs": [
    {
     "data": {
      "text/plain": [
       "ID                     0\n",
       "Carat Weight           0\n",
       "Price                  0\n",
       "Price_imputed_mean     0\n",
       "Cut_Good               0\n",
       "Cut_Ideal              0\n",
       "Cut_Signature-Ideal    0\n",
       "Cut_Very Good          0\n",
       "Color_E                0\n",
       "Color_F                0\n",
       "Color_G                0\n",
       "Color_H                0\n",
       "Color_I                0\n",
       "Clarity_IF             0\n",
       "Clarity_SI1            0\n",
       "Clarity_VS1            0\n",
       "Clarity_VS2            0\n",
       "Clarity_VVS1           0\n",
       "Clarity_VVS2           0\n",
       "Polish_G               0\n",
       "Polish_ID              0\n",
       "Polish_VG              0\n",
       "Symmetry_G             0\n",
       "Symmetry_ID            0\n",
       "Symmetry_VG            0\n",
       "Report_GIA             0\n",
       "dtype: int64"
      ]
     },
     "execution_count": 321,
     "metadata": {},
     "output_type": "execute_result"
    }
   ],
   "source": [
    "# Running Mice on diamond dataset!\n",
    "\n",
    "from sklearn.experimental import enable_iterative_imputer \n",
    "from sklearn.impute import IterativeImputer\n",
    "\n",
    "df_d_e = pd.get_dummies(df_d, drop_first=True)\n",
    "\n",
    "# Initialize the IterativeImputer\n",
    "imputer = IterativeImputer(max_iter=2, random_state=0)\n",
    "\n",
    "# Fit and transform the DataFrame to impute missing values\n",
    "df_imputed_encoded = pd.DataFrame(imputer.fit_transform(df_d_e), columns=df_d_e.columns)\n",
    "\n",
    "df_imputed_encoded.isna().sum()"
   ]
  },
  {
   "cell_type": "code",
   "execution_count": 322,
   "id": "548aba0c",
   "metadata": {},
   "outputs": [
    {
     "data": {
      "text/html": [
       "<div>\n",
       "<style scoped>\n",
       "    .dataframe tbody tr th:only-of-type {\n",
       "        vertical-align: middle;\n",
       "    }\n",
       "\n",
       "    .dataframe tbody tr th {\n",
       "        vertical-align: top;\n",
       "    }\n",
       "\n",
       "    .dataframe thead th {\n",
       "        text-align: right;\n",
       "    }\n",
       "</style>\n",
       "<table border=\"1\" class=\"dataframe\">\n",
       "  <thead>\n",
       "    <tr style=\"text-align: right;\">\n",
       "      <th></th>\n",
       "      <th>ID</th>\n",
       "      <th>Carat Weight</th>\n",
       "      <th>Price</th>\n",
       "      <th>Price_imputed_mean</th>\n",
       "      <th>Cut_Good</th>\n",
       "      <th>Cut_Ideal</th>\n",
       "      <th>Cut_Signature-Ideal</th>\n",
       "      <th>Cut_Very Good</th>\n",
       "      <th>Color_E</th>\n",
       "      <th>Color_F</th>\n",
       "      <th>...</th>\n",
       "      <th>Clarity_VS2</th>\n",
       "      <th>Clarity_VVS1</th>\n",
       "      <th>Clarity_VVS2</th>\n",
       "      <th>Polish_G</th>\n",
       "      <th>Polish_ID</th>\n",
       "      <th>Polish_VG</th>\n",
       "      <th>Symmetry_G</th>\n",
       "      <th>Symmetry_ID</th>\n",
       "      <th>Symmetry_VG</th>\n",
       "      <th>Report_GIA</th>\n",
       "    </tr>\n",
       "  </thead>\n",
       "  <tbody>\n",
       "    <tr>\n",
       "      <th>0</th>\n",
       "      <td>1.0</td>\n",
       "      <td>1.10</td>\n",
       "      <td>5169.0</td>\n",
       "      <td>5169.0</td>\n",
       "      <td>0.0</td>\n",
       "      <td>1.0</td>\n",
       "      <td>0.0</td>\n",
       "      <td>0.0</td>\n",
       "      <td>0.0</td>\n",
       "      <td>0.0</td>\n",
       "      <td>...</td>\n",
       "      <td>0.0</td>\n",
       "      <td>0.0</td>\n",
       "      <td>0.0</td>\n",
       "      <td>0.0</td>\n",
       "      <td>0.0</td>\n",
       "      <td>1.0</td>\n",
       "      <td>0.0</td>\n",
       "      <td>0.0</td>\n",
       "      <td>0.0</td>\n",
       "      <td>1.0</td>\n",
       "    </tr>\n",
       "    <tr>\n",
       "      <th>1</th>\n",
       "      <td>2.0</td>\n",
       "      <td>0.83</td>\n",
       "      <td>3470.0</td>\n",
       "      <td>3470.0</td>\n",
       "      <td>0.0</td>\n",
       "      <td>1.0</td>\n",
       "      <td>0.0</td>\n",
       "      <td>0.0</td>\n",
       "      <td>0.0</td>\n",
       "      <td>0.0</td>\n",
       "      <td>...</td>\n",
       "      <td>0.0</td>\n",
       "      <td>0.0</td>\n",
       "      <td>0.0</td>\n",
       "      <td>0.0</td>\n",
       "      <td>1.0</td>\n",
       "      <td>0.0</td>\n",
       "      <td>0.0</td>\n",
       "      <td>1.0</td>\n",
       "      <td>0.0</td>\n",
       "      <td>0.0</td>\n",
       "    </tr>\n",
       "    <tr>\n",
       "      <th>2</th>\n",
       "      <td>3.0</td>\n",
       "      <td>0.85</td>\n",
       "      <td>3183.0</td>\n",
       "      <td>3183.0</td>\n",
       "      <td>0.0</td>\n",
       "      <td>1.0</td>\n",
       "      <td>0.0</td>\n",
       "      <td>0.0</td>\n",
       "      <td>0.0</td>\n",
       "      <td>0.0</td>\n",
       "      <td>...</td>\n",
       "      <td>0.0</td>\n",
       "      <td>0.0</td>\n",
       "      <td>0.0</td>\n",
       "      <td>0.0</td>\n",
       "      <td>0.0</td>\n",
       "      <td>0.0</td>\n",
       "      <td>0.0</td>\n",
       "      <td>0.0</td>\n",
       "      <td>0.0</td>\n",
       "      <td>1.0</td>\n",
       "    </tr>\n",
       "  </tbody>\n",
       "</table>\n",
       "<p>3 rows × 26 columns</p>\n",
       "</div>"
      ],
      "text/plain": [
       "    ID  Carat Weight   Price  Price_imputed_mean  Cut_Good  Cut_Ideal  \\\n",
       "0  1.0          1.10  5169.0              5169.0       0.0        1.0   \n",
       "1  2.0          0.83  3470.0              3470.0       0.0        1.0   \n",
       "2  3.0          0.85  3183.0              3183.0       0.0        1.0   \n",
       "\n",
       "   Cut_Signature-Ideal  Cut_Very Good  Color_E  Color_F  ...  Clarity_VS2  \\\n",
       "0                  0.0            0.0      0.0      0.0  ...          0.0   \n",
       "1                  0.0            0.0      0.0      0.0  ...          0.0   \n",
       "2                  0.0            0.0      0.0      0.0  ...          0.0   \n",
       "\n",
       "   Clarity_VVS1  Clarity_VVS2  Polish_G  Polish_ID  Polish_VG  Symmetry_G  \\\n",
       "0           0.0           0.0       0.0        0.0        1.0         0.0   \n",
       "1           0.0           0.0       0.0        1.0        0.0         0.0   \n",
       "2           0.0           0.0       0.0        0.0        0.0         0.0   \n",
       "\n",
       "   Symmetry_ID  Symmetry_VG  Report_GIA  \n",
       "0          0.0          0.0         1.0  \n",
       "1          1.0          0.0         0.0  \n",
       "2          0.0          0.0         1.0  \n",
       "\n",
       "[3 rows x 26 columns]"
      ]
     },
     "execution_count": 322,
     "metadata": {},
     "output_type": "execute_result"
    }
   ],
   "source": [
    "df_imputed_encoded.head(3)"
   ]
  },
  {
   "cell_type": "markdown",
   "id": "84ec68af",
   "metadata": {},
   "source": [
    "#### 3. Running MissForest"
   ]
  },
  {
   "cell_type": "code",
   "execution_count": null,
   "id": "ec8dbb41",
   "metadata": {},
   "outputs": [],
   "source": [
    "import pandas as pd\n",
    "from missingpy import MissForest\n",
    "\n",
    "# Initialize the MissForest imputer\n",
    "imputer = MissForest()\n",
    "\n",
    "# Fit and transform the DataFrame to impute missing values\n",
    "df_imputed = imputer.fit_transform(df)\n",
    "\n",
    "# Convert the result back to a DataFrame with the same column names\n",
    "df_imputed = pd.DataFrame(df_imputed, columns=df.columns)\n",
    "\n",
    "# Display the first few rows of the imputed DataFrame\n",
    "print(df_imputed.head())"
   ]
  },
  {
   "cell_type": "markdown",
   "id": "8ab8a9ad",
   "metadata": {},
   "source": [
    "#### Statistical Method"
   ]
  },
  {
   "cell_type": "code",
   "execution_count": null,
   "id": "cc2248ee",
   "metadata": {},
   "outputs": [],
   "source": [
    "mean_weight = df_e['Item_Weight'].mean()\n",
    "std_weight = df_e['Item_Weight'].std()\n",
    "\n",
    "random_values = np.random.normal(mean_weight, std_weight, df_e['Item_Weight'].isnull().sum()) # \n",
    "\n",
    "df_e['Item_Weight_imputed'] = df_e['Item_Weight'].copy() #inclused nan\n",
    "\n",
    "df_e.loc[df_e['Item_Weight_imputed'].isnull(), 'Item_Weight_imputed'] = random_values \n",
    "\n",
    "sns.kdeplot(data=df_e['Item_Weight'], \n",
    "            label='Orignal Value',\n",
    "           color='blue',\n",
    "           linewidth=2)\n",
    "\n",
    "sns.kdeplot(data=df_e['Item_Weight_imputed'], \n",
    "            label='Imputed Value',\n",
    "           color='red',\n",
    "           linewidth=2)\n",
    "\n",
    "plt.show()"
   ]
  }
 ],
 "metadata": {
  "kernelspec": {
   "display_name": "Python 3 (ipykernel)",
   "language": "python",
   "name": "python3"
  },
  "language_info": {
   "codemirror_mode": {
    "name": "ipython",
    "version": 3
   },
   "file_extension": ".py",
   "mimetype": "text/x-python",
   "name": "python",
   "nbconvert_exporter": "python",
   "pygments_lexer": "ipython3",
   "version": "3.11.7"
  }
 },
 "nbformat": 4,
 "nbformat_minor": 5
}
